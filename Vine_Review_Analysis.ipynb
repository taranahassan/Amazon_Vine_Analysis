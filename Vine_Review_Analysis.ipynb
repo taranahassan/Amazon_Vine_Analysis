{
  "nbformat": 4,
  "nbformat_minor": 0,
  "metadata": {
    "colab": {
      "name": "Vine_Review_Analysis.ipynb",
      "provenance": [],
      "authorship_tag": "ABX9TyMeICg52KCbpjhwAplyd8OX"
    },
    "kernelspec": {
      "name": "python3",
      "display_name": "Python 3"
    },
    "language_info": {
      "name": "python"
    }
  },
  "cells": [
    {
      "cell_type": "code",
      "metadata": {
        "colab": {
          "base_uri": "https://localhost:8080/"
        },
        "id": "vioswiOsO_7y",
        "outputId": "625a0e27-2748-4664-ab69-4f5716b80642"
      },
      "source": [
        "import os\n",
        "# Find the latest version of spark 2.0  from http://www-us.apache.org/dist/spark/ and enter as the spark version\n",
        "# For example:\n",
        "# spark_version = 'spark-3.0.0'\n",
        "spark_version = 'spark-3.1.1'\n",
        "os.environ['SPARK_VERSION']=spark_version\n",
        "\n",
        "# Install Spark and Java\n",
        "!apt-get update\n",
        "!apt-get install openjdk-11-jdk-headless -qq > /dev/null\n",
        "!wget -q http://www-us.apache.org/dist/spark/$SPARK_VERSION/$SPARK_VERSION-bin-hadoop2.7.tgz\n",
        "!tar xf $SPARK_VERSION-bin-hadoop2.7.tgz\n",
        "!pip install -q findspark\n",
        "\n",
        "# Set Environment Variables\n",
        "import os\n",
        "os.environ[\"JAVA_HOME\"] = \"/usr/lib/jvm/java-11-openjdk-amd64\"\n",
        "os.environ[\"SPARK_HOME\"] = f\"/content/{spark_version}-bin-hadoop2.7\"\n",
        "\n",
        "# Start a SparkSession\n",
        "import findspark\n",
        "findspark.init()"
      ],
      "execution_count": 1,
      "outputs": [
        {
          "output_type": "stream",
          "text": [
            "\r0% [Working]\r            \rIgn:1 https://developer.download.nvidia.com/compute/cuda/repos/ubuntu1804/x86_64  InRelease\n",
            "Get:2 https://cloud.r-project.org/bin/linux/ubuntu bionic-cran40/ InRelease [3,626 B]\n",
            "Get:3 http://security.ubuntu.com/ubuntu bionic-security InRelease [88.7 kB]\n",
            "Get:4 http://ppa.launchpad.net/c2d4u.team/c2d4u4.0+/ubuntu bionic InRelease [15.9 kB]\n",
            "Hit:5 http://archive.ubuntu.com/ubuntu bionic InRelease\n",
            "Ign:6 https://developer.download.nvidia.com/compute/machine-learning/repos/ubuntu1804/x86_64  InRelease\n",
            "Get:7 https://developer.download.nvidia.com/compute/cuda/repos/ubuntu1804/x86_64  Release [697 B]\n",
            "Hit:8 https://developer.download.nvidia.com/compute/machine-learning/repos/ubuntu1804/x86_64  Release\n",
            "Get:9 https://developer.download.nvidia.com/compute/cuda/repos/ubuntu1804/x86_64  Release.gpg [836 B]\n",
            "Get:10 http://archive.ubuntu.com/ubuntu bionic-updates InRelease [88.7 kB]\n",
            "Hit:11 http://ppa.launchpad.net/cran/libgit2/ubuntu bionic InRelease\n",
            "Get:12 http://archive.ubuntu.com/ubuntu bionic-backports InRelease [74.6 kB]\n",
            "Get:13 http://ppa.launchpad.net/deadsnakes/ppa/ubuntu bionic InRelease [15.9 kB]\n",
            "Hit:14 http://ppa.launchpad.net/graphics-drivers/ppa/ubuntu bionic InRelease\n",
            "Ign:16 https://developer.download.nvidia.com/compute/cuda/repos/ubuntu1804/x86_64  Packages\n",
            "Get:16 https://developer.download.nvidia.com/compute/cuda/repos/ubuntu1804/x86_64  Packages [635 kB]\n",
            "Get:17 http://ppa.launchpad.net/c2d4u.team/c2d4u4.0+/ubuntu bionic/main Sources [1,751 kB]\n",
            "Get:18 http://security.ubuntu.com/ubuntu bionic-security/universe amd64 Packages [1,404 kB]\n",
            "Get:19 http://security.ubuntu.com/ubuntu bionic-security/multiverse amd64 Packages [24.5 kB]\n",
            "Get:20 http://security.ubuntu.com/ubuntu bionic-security/restricted amd64 Packages [372 kB]\n",
            "Get:21 http://security.ubuntu.com/ubuntu bionic-security/main amd64 Packages [2,077 kB]\n",
            "Get:22 http://ppa.launchpad.net/c2d4u.team/c2d4u4.0+/ubuntu bionic/main amd64 Packages [896 kB]\n",
            "Get:23 http://archive.ubuntu.com/ubuntu bionic-updates/main amd64 Packages [2,508 kB]\n",
            "Get:24 http://archive.ubuntu.com/ubuntu bionic-updates/universe amd64 Packages [2,176 kB]\n",
            "Get:25 http://archive.ubuntu.com/ubuntu bionic-updates/multiverse amd64 Packages [31.4 kB]\n",
            "Get:26 http://archive.ubuntu.com/ubuntu bionic-updates/restricted amd64 Packages [402 kB]\n",
            "Get:27 http://ppa.launchpad.net/deadsnakes/ppa/ubuntu bionic/main amd64 Packages [39.5 kB]\n",
            "Fetched 12.6 MB in 5s (2,786 kB/s)\n",
            "Reading package lists... Done\n"
          ],
          "name": "stdout"
        }
      ]
    },
    {
      "cell_type": "code",
      "metadata": {
        "id": "vjWPdRaePYOA"
      },
      "source": [
        "# start spark session\n",
        "from pyspark.sql import SparkSession\n",
        "spark = SparkSession.builder.appName(\"VineAnalysis\").getOrCreate()"
      ],
      "execution_count": 2,
      "outputs": []
    },
    {
      "cell_type": "code",
      "metadata": {
        "id": "TWwgD6pAP4VY"
      },
      "source": [
        "from pyspark import SparkFiles\n",
        "url = \"https://s3.amazonaws.com/amazon-reviews-pds/tsv/amazon_reviews_us_Kitchen_v1_00.tsv.gz\"\n",
        "spark.sparkContext.addFile(url)\n",
        "review_df = spark.read.option(\"encoding\", \"UTF-8\").csv(SparkFiles.get(\"\"), sep=\"\\t\", header=True, inferSchema=True)"
      ],
      "execution_count": 3,
      "outputs": []
    },
    {
      "cell_type": "markdown",
      "metadata": {
        "id": "UEQMKHWEFOAB"
      },
      "source": [
        "# 1. creating a new DataFrame to retrieve all the rows where the total_votes count is equal to or greater than 20"
      ]
    },
    {
      "cell_type": "code",
      "metadata": {
        "colab": {
          "base_uri": "https://localhost:8080/"
        },
        "id": "fI8vPbSNQTK4",
        "outputId": "baa369f2-2a92-4033-80a6-46c439b43d47"
      },
      "source": [
        "vine_table_df = review_df.filter('total_votes>=20')\n",
        "vine_table_df.show()"
      ],
      "execution_count": 4,
      "outputs": [
        {
          "output_type": "stream",
          "text": [
            "+-----------+-----------+--------------+----------+--------------+--------------------+----------------+-----------+-------------+-----------+----+-----------------+--------------------+--------------------+-----------+\n",
            "|marketplace|customer_id|     review_id|product_id|product_parent|       product_title|product_category|star_rating|helpful_votes|total_votes|vine|verified_purchase|     review_headline|         review_body|review_date|\n",
            "+-----------+-----------+--------------+----------+--------------+--------------------+----------------+-----------+-------------+-----------+----+-----------------+--------------------+--------------------+-----------+\n",
            "|         US|   33460969|R28RB82UG4RDD5|B00FB4UPA0|      10711472|Nifty Home 24 K-C...|         Kitchen|          5|           20|         20|   N|                Y| Saves counter space|Fits under my ful...| 2015-08-31|\n",
            "|         US|   47272965|R3FB6BERWPEIJP|B0029OXHVY|     236056882|Wusthof Classic I...|         Kitchen|          4|           40|         43|   N|                Y|Great knife but w...|This knife has be...| 2015-08-31|\n",
            "|         US|   17776853|R1D4Z38STRDQXK|B00IRW15ES|     936830997|Wabash Valley Far...|         Kitchen|          5|           53|         56|   N|                Y|Very Heavy Duty -...|Let me first say,...| 2015-08-31|\n",
            "|         US|   42482060|R1XMWJZICINIFX|B00EPHPQOE|     976827724|French-inspired \"...|         Kitchen|          3|           20|         21|   N|                Y|Double Check the ...|This is a really ...| 2015-08-31|\n",
            "|         US|   52832486|R20QKY1GABXFLM|B00URO56CG|     342955358|Rachael Ray 14-Pi...|         Kitchen|          1|          272|        297|   N|                Y|First time using ...|The first time us...| 2015-08-31|\n",
            "|         US|   13782702|R3GZ7CK2O1PPG0|B00XA284WG|      79322164|hölm Flexible Sil...|         Kitchen|          2|           10|         30|   N|                Y|Should be made mo...|Not crazy about t...| 2015-08-31|\n",
            "|         US|   37879383|R328FA1E6FY3F5|B010A5JP5K|     260716339|Midori Way Thick ...|         Kitchen|          5|           17|         20|   N|                N|My New Favorite C...|i have been using...| 2015-08-31|\n",
            "|         US|   30356443|R3DH22AA5WGLLS|B0040QD9MG|     945191020|Sistema Klip It C...|         Kitchen|          5|           30|         30|   N|                N|Versatile, great ...|Over the last thr...| 2015-08-31|\n",
            "|         US|   16963471|R1E0E5EFZSLJCS|B000066OJD|     355371628|OXO SoftWorks Mea...|         Kitchen|          1|           66|         80|   N|                Y|             painful|Please see the pi...| 2015-08-31|\n",
            "|         US|    8612349|R1TXZQWEHYWEWN|B00H8OATE8|     628321891|Philips HD9230/26...|         Kitchen|          2|           48|         51|   N|                Y|... air fryer in ...|Bought this air f...| 2015-08-31|\n",
            "|         US|   35807336| RQQAI8YL3UCY2|B00YSBTXBY|     308733658|iCoffee RSS300-DA...|         Kitchen|          5|           23|         25|   N|                Y|This is an excell...|I thought I'd alr...| 2015-08-31|\n",
            "|         US|   43175994|R3PZNAQREFUNJ7|B00GRIR87M|     319510941|Spiralizer 5-Blad...|         Kitchen|          4|           28|         35|   N|                Y|Works well but fo...|Overall like the ...| 2015-08-31|\n",
            "|         US|   38524783|R1ZUNUSUEA5D0T|B00PRD16PI|     133709074|Cupture Vintage M...|         Kitchen|          2|           17|         20|   N|                Y|Careful, it may e...|So, the order arr...| 2015-08-31|\n",
            "|         US|   42297008|R3SHJSHTY8AXKR|B003QP30S0|     900642667|Prepworks from Pr...|         Kitchen|          5|           69|         72|   N|                Y|Just Perfect for ...|This item is perf...| 2015-08-31|\n",
            "|         US|   29290468|R2QM1JXA2XI7XA|B00NQ7QFGM|     649069435|T-fal FR4049 Fami...|         Kitchen|          3|           61|         68|   N|                Y|I filled it to a ...|I have only used ...| 2015-08-31|\n",
            "|         US|   31845599|R1SVJ6XDBCQNSN|B0038LNVR2|     288798805|CuteZCute Bento D...|         Kitchen|          3|           29|         30|   N|                Y|Smaller than expe...|These are tiny --...| 2015-08-31|\n",
            "|         US|   40611040|R1IEABNX71GK3B|B00B80TJIU|     110095135|Ball Mason 4oz Qu...|         Kitchen|          1|           54|         58|   N|                N|       BROKEN GLASS!|MY ITEMS CAME BAD...| 2015-08-31|\n",
            "|         US|   52051413|R16QL1GNQVT4G9|B00YSBTXBY|     308733658|iCoffee RSS300-DA...|         Kitchen|          5|          117|        119|   N|                Y|Good, or excellen...|delivered August ...| 2015-08-31|\n",
            "|         US|   21595327|R1MV4YDD6O5UME|B010YE08DA|     872826655|Deluxe Cook V-Bla...|         Kitchen|          5|           30|         32|   N|                N|It gets the job d...|We had a mandolin...| 2015-08-31|\n",
            "|         US|   26470122|R3A8EHXA0JX7WV|B0120VW61C|     414872055|Magnetic Knife Ho...|         Kitchen|          5|           18|         24|   N|                N|Tiny kitchen, big...|Hubby and I live ...| 2015-08-31|\n",
            "+-----------+-----------+--------------+----------+--------------+--------------------+----------------+-----------+-------------+-----------+----+-----------------+--------------------+--------------------+-----------+\n",
            "only showing top 20 rows\n",
            "\n"
          ],
          "name": "stdout"
        }
      ]
    },
    {
      "cell_type": "markdown",
      "metadata": {
        "id": "7UxM_aYfFbg3"
      },
      "source": [
        "# 2. creating a new DataFrame to retrieve all the rows where the number of helpful_votes divided by total_votes is equal to or greater than 50%"
      ]
    },
    {
      "cell_type": "code",
      "metadata": {
        "colab": {
          "base_uri": "https://localhost:8080/"
        },
        "id": "Qr1Ap5QbedGU",
        "outputId": "83a1aa81-5117-4ed1-a9ec-993e34cff68c"
      },
      "source": [
        "# importing required function\n",
        "from pyspark.sql.functions import col\n",
        "\n",
        "vine_sorted_df = vine_table_df.filter((col('helpful_votes')/col('total_votes')) >= .5)\n",
        "vine_sorted_df.show()"
      ],
      "execution_count": 5,
      "outputs": [
        {
          "output_type": "stream",
          "text": [
            "+-----------+-----------+--------------+----------+--------------+--------------------+----------------+-----------+-------------+-----------+----+-----------------+--------------------+--------------------+-----------+\n",
            "|marketplace|customer_id|     review_id|product_id|product_parent|       product_title|product_category|star_rating|helpful_votes|total_votes|vine|verified_purchase|     review_headline|         review_body|review_date|\n",
            "+-----------+-----------+--------------+----------+--------------+--------------------+----------------+-----------+-------------+-----------+----+-----------------+--------------------+--------------------+-----------+\n",
            "|         US|   33460969|R28RB82UG4RDD5|B00FB4UPA0|      10711472|Nifty Home 24 K-C...|         Kitchen|          5|           20|         20|   N|                Y| Saves counter space|Fits under my ful...| 2015-08-31|\n",
            "|         US|   47272965|R3FB6BERWPEIJP|B0029OXHVY|     236056882|Wusthof Classic I...|         Kitchen|          4|           40|         43|   N|                Y|Great knife but w...|This knife has be...| 2015-08-31|\n",
            "|         US|   17776853|R1D4Z38STRDQXK|B00IRW15ES|     936830997|Wabash Valley Far...|         Kitchen|          5|           53|         56|   N|                Y|Very Heavy Duty -...|Let me first say,...| 2015-08-31|\n",
            "|         US|   42482060|R1XMWJZICINIFX|B00EPHPQOE|     976827724|French-inspired \"...|         Kitchen|          3|           20|         21|   N|                Y|Double Check the ...|This is a really ...| 2015-08-31|\n",
            "|         US|   52832486|R20QKY1GABXFLM|B00URO56CG|     342955358|Rachael Ray 14-Pi...|         Kitchen|          1|          272|        297|   N|                Y|First time using ...|The first time us...| 2015-08-31|\n",
            "|         US|   37879383|R328FA1E6FY3F5|B010A5JP5K|     260716339|Midori Way Thick ...|         Kitchen|          5|           17|         20|   N|                N|My New Favorite C...|i have been using...| 2015-08-31|\n",
            "|         US|   30356443|R3DH22AA5WGLLS|B0040QD9MG|     945191020|Sistema Klip It C...|         Kitchen|          5|           30|         30|   N|                N|Versatile, great ...|Over the last thr...| 2015-08-31|\n",
            "|         US|   16963471|R1E0E5EFZSLJCS|B000066OJD|     355371628|OXO SoftWorks Mea...|         Kitchen|          1|           66|         80|   N|                Y|             painful|Please see the pi...| 2015-08-31|\n",
            "|         US|    8612349|R1TXZQWEHYWEWN|B00H8OATE8|     628321891|Philips HD9230/26...|         Kitchen|          2|           48|         51|   N|                Y|... air fryer in ...|Bought this air f...| 2015-08-31|\n",
            "|         US|   35807336| RQQAI8YL3UCY2|B00YSBTXBY|     308733658|iCoffee RSS300-DA...|         Kitchen|          5|           23|         25|   N|                Y|This is an excell...|I thought I'd alr...| 2015-08-31|\n",
            "|         US|   43175994|R3PZNAQREFUNJ7|B00GRIR87M|     319510941|Spiralizer 5-Blad...|         Kitchen|          4|           28|         35|   N|                Y|Works well but fo...|Overall like the ...| 2015-08-31|\n",
            "|         US|   38524783|R1ZUNUSUEA5D0T|B00PRD16PI|     133709074|Cupture Vintage M...|         Kitchen|          2|           17|         20|   N|                Y|Careful, it may e...|So, the order arr...| 2015-08-31|\n",
            "|         US|   42297008|R3SHJSHTY8AXKR|B003QP30S0|     900642667|Prepworks from Pr...|         Kitchen|          5|           69|         72|   N|                Y|Just Perfect for ...|This item is perf...| 2015-08-31|\n",
            "|         US|   29290468|R2QM1JXA2XI7XA|B00NQ7QFGM|     649069435|T-fal FR4049 Fami...|         Kitchen|          3|           61|         68|   N|                Y|I filled it to a ...|I have only used ...| 2015-08-31|\n",
            "|         US|   31845599|R1SVJ6XDBCQNSN|B0038LNVR2|     288798805|CuteZCute Bento D...|         Kitchen|          3|           29|         30|   N|                Y|Smaller than expe...|These are tiny --...| 2015-08-31|\n",
            "|         US|   40611040|R1IEABNX71GK3B|B00B80TJIU|     110095135|Ball Mason 4oz Qu...|         Kitchen|          1|           54|         58|   N|                N|       BROKEN GLASS!|MY ITEMS CAME BAD...| 2015-08-31|\n",
            "|         US|   52051413|R16QL1GNQVT4G9|B00YSBTXBY|     308733658|iCoffee RSS300-DA...|         Kitchen|          5|          117|        119|   N|                Y|Good, or excellen...|delivered August ...| 2015-08-31|\n",
            "|         US|   21595327|R1MV4YDD6O5UME|B010YE08DA|     872826655|Deluxe Cook V-Bla...|         Kitchen|          5|           30|         32|   N|                N|It gets the job d...|We had a mandolin...| 2015-08-31|\n",
            "|         US|   26470122|R3A8EHXA0JX7WV|B0120VW61C|     414872055|Magnetic Knife Ho...|         Kitchen|          5|           18|         24|   N|                N|Tiny kitchen, big...|Hubby and I live ...| 2015-08-31|\n",
            "|         US|   49452274|R2M7TEVV9YSLTR|B00YU13CA0|     901581837|Under Armour Lunc...|         Kitchen|          5|           94|         96|   N|                Y|Far higher qualit...|I've been using l...| 2015-08-31|\n",
            "+-----------+-----------+--------------+----------+--------------+--------------------+----------------+-----------+-------------+-----------+----+-----------------+--------------------+--------------------+-----------+\n",
            "only showing top 20 rows\n",
            "\n"
          ],
          "name": "stdout"
        }
      ]
    },
    {
      "cell_type": "markdown",
      "metadata": {
        "id": "lNVGS-wfFhVG"
      },
      "source": [
        "# 3. creating a new DataFrame that retrieves all the rows where a review was written as part of the Vine program (paid), vine == 'Y'"
      ]
    },
    {
      "cell_type": "code",
      "metadata": {
        "colab": {
          "base_uri": "https://localhost:8080/"
        },
        "id": "k9GjlzfchUnb",
        "outputId": "368f6cc5-257b-409d-dc1c-41f5c11e9690"
      },
      "source": [
        "paid_vine = vine_sorted_df.filter(col('vine')== 'Y')\n",
        "paid_vine.show()"
      ],
      "execution_count": 6,
      "outputs": [
        {
          "output_type": "stream",
          "text": [
            "+-----------+-----------+--------------+----------+--------------+--------------------+----------------+-----------+-------------+-----------+----+-----------------+--------------------+--------------------+-----------+\n",
            "|marketplace|customer_id|     review_id|product_id|product_parent|       product_title|product_category|star_rating|helpful_votes|total_votes|vine|verified_purchase|     review_headline|         review_body|review_date|\n",
            "+-----------+-----------+--------------+----------+--------------+--------------------+----------------+-----------+-------------+-----------+----+-----------------+--------------------+--------------------+-----------+\n",
            "|         US|   33146712|R1Z71RW4J9IK93|B00YCP6UEO|     238165328|De'Longhi Automat...|         Kitchen|          5|           20|         22|   Y|                N|If you make cappu...|It's really hard ...| 2015-08-29|\n",
            "|         US|   16449486|R3FVB5QI11KI9Q|B00YCP71VK|      62048996|De'Longhi ECP3220...|         Kitchen|          4|          192|        200|   Y|                N|    Espresso Machine|The De'Longhi ECP...| 2015-08-29|\n",
            "|         US|   36602384|R2G027YBMVXV6Y|B00YCP71VK|      62048996|De'Longhi ECP3220...|         Kitchen|          5|           39|         48|   Y|                N|Pricy, But Good M...|Context: This is ...| 2015-08-28|\n",
            "|         US|   50079351|R1QGBAN7BMGWRR|B012CG8N26|     416688753|Hamilton Beach 32...|         Kitchen|          5|          121|        129|   Y|                N|Everything a begi...|I have been dehyd...| 2015-08-27|\n",
            "|         US|   51363988|R2NH2AU7XL9ZDZ|B00VHLXLZM|     846374371|BLACK+DECKER FP60...|         Kitchen|          3|           18|         20|   Y|                N|Decent for ocassi...|I broke the first...| 2015-08-27|\n",
            "|         US|   44737123|R2YVVJ9NOPNX50|B00GOH28S0|     102175725|Coravin Model Win...|         Kitchen|          4|           36|         41|   Y|                N|Makes the Impossi...|This unique new p...| 2015-08-22|\n",
            "|         US|   53018261|R1XH1LK1FWX3OS|B00V5IM5PY|     960400901|AmazonBasics Stai...|         Kitchen|          4|          214|        238|   Y|                N|Good quality for ...|I have an EatSmar...| 2015-08-22|\n",
            "|         US|   18378753|R38LSQ71G2IZGS|B00XAEIS3O|     207269388|Farberware 12 Pie...|         Kitchen|          5|           26|         29|   Y|                N|Excellent Heat Di...|I've got a simila...| 2015-08-22|\n",
            "|         US|   36849547|R2FLITQVKWXDF4|B00YCP6RBA|     709255424|De'Longhi ECAM232...|         Kitchen|          3|           26|         34|   Y|                N|I really tried to...|Here's my perspec...| 2015-08-19|\n",
            "|         US|   51094564|R25LMMZF3DJTWY|B00LBW6UKU|     496108565|KitchenAid Pro Li...|         Kitchen|          2|           18|         21|   Y|                N|lack of temperatu...|Although this esp...| 2015-08-17|\n",
            "|         US|   36356690|R18NC69T0KEC00|B00TQIUUVQ|     629372721|George Foreman GP...|         Kitchen|          5|           20|         23|   Y|                N|We Enjoy Camping ...|This griddle is c...| 2015-08-16|\n",
            "|         US|   32592172| ROYYZ0D9LMYS3|B00V5IM5PY|     960400901|AmazonBasics Stai...|         Kitchen|          5|           25|         33|   Y|                N|Simple, effective...|What a convenient...| 2015-08-15|\n",
            "|         US|   53090971|R223CE6ERRBPRZ|B00WA4UI42|     931960970|Cuisinart FP-12N ...|         Kitchen|          4|           82|         87|   Y|                N|A very functional...|Cuisinart Elite F...| 2015-08-15|\n",
            "|         US|   52408013|R1THPHKHO1BPRZ|B00V5IM5PY|     960400901|AmazonBasics Stai...|         Kitchen|          5|           15|         20|   Y|                N|Lightweight, big ...|Need a kitchen sc...| 2015-08-15|\n",
            "|         US|   52607181|R11K4PQS62ROLS|B00XAEIS3O|     207269388|Farberware 12 Pie...|         Kitchen|          5|           72|         75|   Y|                N|Highly Recommend ...|I was delighted t...| 2015-08-14|\n",
            "|         US|   28059557| R6AZL5SA22ITL|B00QSL89F8|     635181072|  Cooklite Aerofryer|         Kitchen|          1|           66|         70|   Y|                N|Too Small And Coo...|I have no problem...| 2015-08-14|\n",
            "|         US|   47914576| R4J2O4EHK73PR|B00ZCELTKY|      75438833|All-Clad 700393 M...|         Kitchen|          3|           46|         63|   Y|                N|Beautiful Cookwar...|This ALL-CLAD MC2...| 2015-08-13|\n",
            "|         US|   52808146| RMBQSVTJWY2A2|B00U3MCL6G|     911700864|Hamilton Beach 49...|         Kitchen|          5|           26|         28|   Y|                N|  Great coffee maker|The previous vers...| 2015-08-12|\n",
            "|         US|   52760989| RXLOQIB7S4OKN|B00TQIUWVE|     169931608|George Foreman 6-...|         Kitchen|          5|           31|         33|   Y|                N|Easy Cleaning and...|George Foreman Gr...| 2015-08-12|\n",
            "|         US|   52256900| RLG9MEHTAGWL6|B00TKXD0CS|     335828888|Lagostina Q555SD ...|         Kitchen|          5|           57|         63|   Y|                N|I've fallen in lo...|This Lagostina se...| 2015-08-12|\n",
            "+-----------+-----------+--------------+----------+--------------+--------------------+----------------+-----------+-------------+-----------+----+-----------------+--------------------+--------------------+-----------+\n",
            "only showing top 20 rows\n",
            "\n"
          ],
          "name": "stdout"
        }
      ]
    },
    {
      "cell_type": "markdown",
      "metadata": {
        "id": "FvBw8ph_F-vq"
      },
      "source": [
        "# 4. creating a new DataFrame that retrieves all the rows where a review was written as not part of the Vine program (unpaid), vine == 'N'"
      ]
    },
    {
      "cell_type": "code",
      "metadata": {
        "colab": {
          "base_uri": "https://localhost:8080/"
        },
        "id": "LuAbOm4oiHO1",
        "outputId": "ea015e92-fd67-44f5-f8d1-77a641075e84"
      },
      "source": [
        "unpaid_vine = vine_sorted_df.filter(col('vine')== 'N')\n",
        "unpaid_vine.show()"
      ],
      "execution_count": 7,
      "outputs": [
        {
          "output_type": "stream",
          "text": [
            "+-----------+-----------+--------------+----------+--------------+--------------------+----------------+-----------+-------------+-----------+----+-----------------+--------------------+--------------------+-----------+\n",
            "|marketplace|customer_id|     review_id|product_id|product_parent|       product_title|product_category|star_rating|helpful_votes|total_votes|vine|verified_purchase|     review_headline|         review_body|review_date|\n",
            "+-----------+-----------+--------------+----------+--------------+--------------------+----------------+-----------+-------------+-----------+----+-----------------+--------------------+--------------------+-----------+\n",
            "|         US|   33460969|R28RB82UG4RDD5|B00FB4UPA0|      10711472|Nifty Home 24 K-C...|         Kitchen|          5|           20|         20|   N|                Y| Saves counter space|Fits under my ful...| 2015-08-31|\n",
            "|         US|   47272965|R3FB6BERWPEIJP|B0029OXHVY|     236056882|Wusthof Classic I...|         Kitchen|          4|           40|         43|   N|                Y|Great knife but w...|This knife has be...| 2015-08-31|\n",
            "|         US|   17776853|R1D4Z38STRDQXK|B00IRW15ES|     936830997|Wabash Valley Far...|         Kitchen|          5|           53|         56|   N|                Y|Very Heavy Duty -...|Let me first say,...| 2015-08-31|\n",
            "|         US|   42482060|R1XMWJZICINIFX|B00EPHPQOE|     976827724|French-inspired \"...|         Kitchen|          3|           20|         21|   N|                Y|Double Check the ...|This is a really ...| 2015-08-31|\n",
            "|         US|   52832486|R20QKY1GABXFLM|B00URO56CG|     342955358|Rachael Ray 14-Pi...|         Kitchen|          1|          272|        297|   N|                Y|First time using ...|The first time us...| 2015-08-31|\n",
            "|         US|   37879383|R328FA1E6FY3F5|B010A5JP5K|     260716339|Midori Way Thick ...|         Kitchen|          5|           17|         20|   N|                N|My New Favorite C...|i have been using...| 2015-08-31|\n",
            "|         US|   30356443|R3DH22AA5WGLLS|B0040QD9MG|     945191020|Sistema Klip It C...|         Kitchen|          5|           30|         30|   N|                N|Versatile, great ...|Over the last thr...| 2015-08-31|\n",
            "|         US|   16963471|R1E0E5EFZSLJCS|B000066OJD|     355371628|OXO SoftWorks Mea...|         Kitchen|          1|           66|         80|   N|                Y|             painful|Please see the pi...| 2015-08-31|\n",
            "|         US|    8612349|R1TXZQWEHYWEWN|B00H8OATE8|     628321891|Philips HD9230/26...|         Kitchen|          2|           48|         51|   N|                Y|... air fryer in ...|Bought this air f...| 2015-08-31|\n",
            "|         US|   35807336| RQQAI8YL3UCY2|B00YSBTXBY|     308733658|iCoffee RSS300-DA...|         Kitchen|          5|           23|         25|   N|                Y|This is an excell...|I thought I'd alr...| 2015-08-31|\n",
            "|         US|   43175994|R3PZNAQREFUNJ7|B00GRIR87M|     319510941|Spiralizer 5-Blad...|         Kitchen|          4|           28|         35|   N|                Y|Works well but fo...|Overall like the ...| 2015-08-31|\n",
            "|         US|   38524783|R1ZUNUSUEA5D0T|B00PRD16PI|     133709074|Cupture Vintage M...|         Kitchen|          2|           17|         20|   N|                Y|Careful, it may e...|So, the order arr...| 2015-08-31|\n",
            "|         US|   42297008|R3SHJSHTY8AXKR|B003QP30S0|     900642667|Prepworks from Pr...|         Kitchen|          5|           69|         72|   N|                Y|Just Perfect for ...|This item is perf...| 2015-08-31|\n",
            "|         US|   29290468|R2QM1JXA2XI7XA|B00NQ7QFGM|     649069435|T-fal FR4049 Fami...|         Kitchen|          3|           61|         68|   N|                Y|I filled it to a ...|I have only used ...| 2015-08-31|\n",
            "|         US|   31845599|R1SVJ6XDBCQNSN|B0038LNVR2|     288798805|CuteZCute Bento D...|         Kitchen|          3|           29|         30|   N|                Y|Smaller than expe...|These are tiny --...| 2015-08-31|\n",
            "|         US|   40611040|R1IEABNX71GK3B|B00B80TJIU|     110095135|Ball Mason 4oz Qu...|         Kitchen|          1|           54|         58|   N|                N|       BROKEN GLASS!|MY ITEMS CAME BAD...| 2015-08-31|\n",
            "|         US|   52051413|R16QL1GNQVT4G9|B00YSBTXBY|     308733658|iCoffee RSS300-DA...|         Kitchen|          5|          117|        119|   N|                Y|Good, or excellen...|delivered August ...| 2015-08-31|\n",
            "|         US|   21595327|R1MV4YDD6O5UME|B010YE08DA|     872826655|Deluxe Cook V-Bla...|         Kitchen|          5|           30|         32|   N|                N|It gets the job d...|We had a mandolin...| 2015-08-31|\n",
            "|         US|   26470122|R3A8EHXA0JX7WV|B0120VW61C|     414872055|Magnetic Knife Ho...|         Kitchen|          5|           18|         24|   N|                N|Tiny kitchen, big...|Hubby and I live ...| 2015-08-31|\n",
            "|         US|   49452274|R2M7TEVV9YSLTR|B00YU13CA0|     901581837|Under Armour Lunc...|         Kitchen|          5|           94|         96|   N|                Y|Far higher qualit...|I've been using l...| 2015-08-31|\n",
            "+-----------+-----------+--------------+----------+--------------+--------------------+----------------+-----------+-------------+-----------+----+-----------------+--------------------+--------------------+-----------+\n",
            "only showing top 20 rows\n",
            "\n"
          ],
          "name": "stdout"
        }
      ]
    },
    {
      "cell_type": "markdown",
      "metadata": {
        "id": "cyaTLAsGGNpC"
      },
      "source": [
        "# 5. determining the total number of reviews, the number of 5-star reviews, and the percentage of 5-star reviews for the two types of review (paid vs unpaid)."
      ]
    },
    {
      "cell_type": "code",
      "metadata": {
        "id": "hqNUiy3NjtBN",
        "colab": {
          "base_uri": "https://localhost:8080/"
        },
        "outputId": "67900119-3de4-480e-9dbf-7f36372d7474"
      },
      "source": [
        "# total number of reviews from sorted  \n",
        "total_reviews = vine_sorted_df.select('review_id')\n",
        "total_reviews.count()"
      ],
      "execution_count": 17,
      "outputs": [
        {
          "output_type": "execute_result",
          "data": {
            "text/plain": [
              "99046"
            ]
          },
          "metadata": {
            "tags": []
          },
          "execution_count": 17
        }
      ]
    },
    {
      "cell_type": "code",
      "metadata": {
        "colab": {
          "base_uri": "https://localhost:8080/"
        },
        "id": "u_Yr7TDt7NjZ",
        "outputId": "e3b2b815-f0e6-4f03-cd67-57ce6adc4d3b"
      },
      "source": [
        "# total number of 5 star ratings for paid vine program\n",
        "star_ratings = total_reviews.filter(col('star_rating') == '5')\n",
        "star_ratings.count()"
      ],
      "execution_count": 18,
      "outputs": [
        {
          "output_type": "execute_result",
          "data": {
            "text/plain": [
              "46367"
            ]
          },
          "metadata": {
            "tags": []
          },
          "execution_count": 18
        }
      ]
    },
    {
      "cell_type": "markdown",
      "metadata": {
        "id": "bcsJPaPgLrSq"
      },
      "source": [
        "#### Paid Vine program"
      ]
    },
    {
      "cell_type": "code",
      "metadata": {
        "colab": {
          "base_uri": "https://localhost:8080/"
        },
        "id": "AljHOieRL5TL",
        "outputId": "7d5990a7-1573-4dfe-abc0-9ced1efce344"
      },
      "source": [
        "# total vine reviews\n",
        "paid_vine.count()"
      ],
      "execution_count": 19,
      "outputs": [
        {
          "output_type": "execute_result",
          "data": {
            "text/plain": [
              "1207"
            ]
          },
          "metadata": {
            "tags": []
          },
          "execution_count": 19
        }
      ]
    },
    {
      "cell_type": "code",
      "metadata": {
        "colab": {
          "base_uri": "https://localhost:8080/"
        },
        "id": "77bQMn5qr6Jk",
        "outputId": "1537f375-fcce-42b7-d7f6-e98684d503dc"
      },
      "source": [
        "# total vine reviews with 5 star rating\n",
        "vine_star_rating = star_ratings.filter(col('vine') == 'Y')\n",
        "vine_star_rating.count()"
      ],
      "execution_count": 20,
      "outputs": [
        {
          "output_type": "execute_result",
          "data": {
            "text/plain": [
              "509"
            ]
          },
          "metadata": {
            "tags": []
          },
          "execution_count": 20
        }
      ]
    },
    {
      "cell_type": "code",
      "metadata": {
        "colab": {
          "base_uri": "https://localhost:8080/"
        },
        "id": "wdJGy6VWSgB7",
        "outputId": "b516ba02-7c0b-4454-cf22-1f25f1be28cc"
      },
      "source": [
        "# paid 5 star reviews percentage\n",
        "paid_percentage = vine_star_rating.count() / paid_vine.count()\n",
        "paid_percentage"
      ],
      "execution_count": 21,
      "outputs": [
        {
          "output_type": "execute_result",
          "data": {
            "text/plain": [
              "0.4217067108533554"
            ]
          },
          "metadata": {
            "tags": []
          },
          "execution_count": 21
        }
      ]
    },
    {
      "cell_type": "markdown",
      "metadata": {
        "id": "ZKyODkuwTuta"
      },
      "source": [
        "#### Unpaid Vine program"
      ]
    },
    {
      "cell_type": "code",
      "metadata": {
        "colab": {
          "base_uri": "https://localhost:8080/"
        },
        "id": "xD7mfxAITyHo",
        "outputId": "d5204810-8dbb-4db2-cd3f-a23e43f3ca12"
      },
      "source": [
        "# total non-vine reviews\n",
        "unpaid_vine.count()"
      ],
      "execution_count": 22,
      "outputs": [
        {
          "output_type": "execute_result",
          "data": {
            "text/plain": [
              "97839"
            ]
          },
          "metadata": {
            "tags": []
          },
          "execution_count": 22
        }
      ]
    },
    {
      "cell_type": "code",
      "metadata": {
        "colab": {
          "base_uri": "https://localhost:8080/"
        },
        "id": "-zwfPMALw18w",
        "outputId": "46638c4d-6f80-4837-8ad6-221fd81a9d19"
      },
      "source": [
        "# total non vine reviews with a star rating\n",
        "nonvine_star_rating = star_ratings.filter(col('vine') == 'N')\n",
        "nonvine_star_rating.count()"
      ],
      "execution_count": 23,
      "outputs": [
        {
          "output_type": "execute_result",
          "data": {
            "text/plain": [
              "45858"
            ]
          },
          "metadata": {
            "tags": []
          },
          "execution_count": 23
        }
      ]
    },
    {
      "cell_type": "code",
      "metadata": {
        "colab": {
          "base_uri": "https://localhost:8080/"
        },
        "id": "2yYgy52-UGlN",
        "outputId": "8bfc1391-2b46-4ce0-cfcd-ec8ceab36870"
      },
      "source": [
        "# unpaid 5 star reviews percentage\n",
        "unpaid_percentage = nonvine_star_rating.count() / unpaid_vine.count()\n",
        "unpaid_percentage"
      ],
      "execution_count": 24,
      "outputs": [
        {
          "output_type": "execute_result",
          "data": {
            "text/plain": [
              "0.46870879710544877"
            ]
          },
          "metadata": {
            "tags": []
          },
          "execution_count": 24
        }
      ]
    }
  ]
}